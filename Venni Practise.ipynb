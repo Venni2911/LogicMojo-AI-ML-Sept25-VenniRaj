{
  "nbformat": 4,
  "nbformat_minor": 0,
  "metadata": {
    "colab": {
      "provenance": []
    },
    "kernelspec": {
      "name": "python3",
      "display_name": "Python 3"
    },
    "language_info": {
      "name": "python"
    }
  },
  "cells": [
    {
      "cell_type": "code",
      "execution_count": null,
      "metadata": {
        "colab": {
          "base_uri": "https://localhost:8080/"
        },
        "id": "blR41c3-naRd",
        "outputId": "f831bd67-0137-4e6a-b178-f45bf78f201f"
      },
      "outputs": [
        {
          "output_type": "stream",
          "name": "stdout",
          "text": [
            "5\n"
          ]
        }
      ],
      "source": [
        "x=5\n",
        "print(x)"
      ]
    },
    {
      "cell_type": "markdown",
      "source": [
        "# New Section"
      ],
      "metadata": {
        "id": "n9A4UOC5vtoF"
      }
    },
    {
      "cell_type": "code",
      "source": [
        "x=5\n",
        "y=\"10\"\n",
        "print(x + int(y))\n"
      ],
      "metadata": {
        "colab": {
          "base_uri": "https://localhost:8080/"
        },
        "id": "yZYyX34zWNzJ",
        "outputId": "c867e5f4-ac96-444c-e800-73503d87f148"
      },
      "execution_count": null,
      "outputs": [
        {
          "output_type": "stream",
          "name": "stdout",
          "text": [
            "15\n"
          ]
        }
      ]
    },
    {
      "cell_type": "code",
      "source": [
        "x=\"5\"\n",
        "y=\"10\"\n",
        "print(x + y)"
      ],
      "metadata": {
        "colab": {
          "base_uri": "https://localhost:8080/"
        },
        "id": "fsM5PavhWseV",
        "outputId": "3a4e8663-9549-4de8-b0c6-7b75384be0a0"
      },
      "execution_count": null,
      "outputs": [
        {
          "output_type": "stream",
          "name": "stdout",
          "text": [
            "510\n"
          ]
        }
      ]
    },
    {
      "cell_type": "code",
      "source": [
        "d = {'a': 1, 'b': 2}\n",
        "d.get('c',5)\n"
      ],
      "metadata": {
        "colab": {
          "base_uri": "https://localhost:8080/"
        },
        "id": "3qplPZYpXN8i",
        "outputId": "16f21247-106c-4ae7-a8a3-a23c57ffbc6d"
      },
      "execution_count": null,
      "outputs": [
        {
          "output_type": "execute_result",
          "data": {
            "text/plain": [
              "5"
            ]
          },
          "metadata": {},
          "execution_count": 13
        }
      ]
    },
    {
      "cell_type": "code",
      "source": [
        "l =[0,2,3,45,8,9,10]\n",
        "l[4]"
      ],
      "metadata": {
        "colab": {
          "base_uri": "https://localhost:8080/"
        },
        "id": "iLe24JPzYhlI",
        "outputId": "9da2d49b-0ed3-4647-daa1-054c201bb0d0"
      },
      "execution_count": null,
      "outputs": [
        {
          "output_type": "execute_result",
          "data": {
            "text/plain": [
              "8"
            ]
          },
          "metadata": {},
          "execution_count": 14
        }
      ]
    },
    {
      "cell_type": "code",
      "source": [
        "l =[0,2,3,45,8,9,10]\n",
        "l[:4]"
      ],
      "metadata": {
        "colab": {
          "base_uri": "https://localhost:8080/"
        },
        "id": "j5AVNFlPYq6S",
        "outputId": "49b8278b-e330-441b-eed1-255f43c8a603"
      },
      "execution_count": null,
      "outputs": [
        {
          "output_type": "execute_result",
          "data": {
            "text/plain": [
              "[0, 2, 3, 45]"
            ]
          },
          "metadata": {},
          "execution_count": 15
        }
      ]
    },
    {
      "cell_type": "code",
      "source": [
        "l=[0,3,4,5,6,8,9,19]\n",
        "l[2:5]\n",
        "l[5:]\n",
        "l[-2:-5]\n",
        "l[-5:-2]\n",
        "l[:-7]\n",
        "l[:-1:2]\n",
        "l[::2]\n",
        "l[::-2]\n",
        "l[::-2]"
      ],
      "metadata": {
        "colab": {
          "base_uri": "https://localhost:8080/"
        },
        "id": "zhv-sixDY-ZC",
        "outputId": "7f62288e-93a0-40a2-9c30-32b699d50899"
      },
      "execution_count": null,
      "outputs": [
        {
          "output_type": "execute_result",
          "data": {
            "text/plain": [
              "[19, 8, 5, 3]"
            ]
          },
          "metadata": {},
          "execution_count": 31
        }
      ]
    },
    {
      "cell_type": "code",
      "source": [
        "l=[1,0,3,[2,3],\"aab\"]\n",
        "l[4][2]"
      ],
      "metadata": {
        "colab": {
          "base_uri": "https://localhost:8080/",
          "height": 35
        },
        "id": "QPuiVtfUdReY",
        "outputId": "338cd677-d762-4a05-b6bf-c1eca69c8ced"
      },
      "execution_count": null,
      "outputs": [
        {
          "output_type": "execute_result",
          "data": {
            "text/plain": [
              "'b'"
            ],
            "application/vnd.google.colaboratory.intrinsic+json": {
              "type": "string"
            }
          },
          "metadata": {},
          "execution_count": 37
        }
      ]
    },
    {
      "cell_type": "code",
      "source": [
        "x = 60\n",
        "if x < 40:\n",
        "    print (\"hello\")"
      ],
      "metadata": {
        "id": "3z5a6yCnfhjc"
      },
      "execution_count": null,
      "outputs": []
    },
    {
      "cell_type": "code",
      "source": [
        "x = 10\n",
        "if x % 4 == 0:\n",
        "  pass\n",
        "else:\n",
        "        if x / 2 > 1:\n",
        "              print (\"hello\")\n",
        "\n"
      ],
      "metadata": {
        "colab": {
          "base_uri": "https://localhost:8080/"
        },
        "id": "I1hk7i46hS86",
        "outputId": "5015b7f6-67fd-45a9-a706-7d869a4d7643"
      },
      "execution_count": null,
      "outputs": [
        {
          "output_type": "stream",
          "name": "stdout",
          "text": [
            "hello\n"
          ]
        }
      ]
    },
    {
      "cell_type": "code",
      "source": [
        "x =10\n",
        "if x > 30:\n",
        "  if x%2==0 :\n",
        "    pass\n",
        "  else:\n",
        "    print(\"df\")\n",
        "else:\n",
        "    print(\"dgg\")\n",
        "\n"
      ],
      "metadata": {
        "colab": {
          "base_uri": "https://localhost:8080/"
        },
        "id": "YSPDTrRPi-2q",
        "outputId": "7937855f-900f-42b9-e191-f77d2b0478cd"
      },
      "execution_count": null,
      "outputs": [
        {
          "output_type": "stream",
          "name": "stdout",
          "text": [
            "dgg\n"
          ]
        }
      ]
    },
    {
      "cell_type": "code",
      "source": [
        "l = [1,4,5,7,8,9,6,0,10]\n",
        "s=[]\n",
        "for i in l:\n",
        "  if i%2 ==0 :\n",
        "    if i%3 ==0 :\n",
        "      break\n",
        "      s.append(\"Even\")\n",
        "    else:\n",
        "      s.append(\"Odd\")\n",
        "print(s)\n",
        "\n"
      ],
      "metadata": {
        "colab": {
          "base_uri": "https://localhost:8080/"
        },
        "id": "Ht2H-8MWkyUE",
        "outputId": "5f2767a8-5bf3-4176-eaaa-e3d522602774"
      },
      "execution_count": null,
      "outputs": [
        {
          "output_type": "stream",
          "name": "stdout",
          "text": [
            "['Odd', 'Odd']\n"
          ]
        }
      ]
    },
    {
      "cell_type": "code",
      "source": [
        "l = [1,4,5,7,8,9,6,0,10]\n",
        "s=[]\n",
        "for i in l:\n",
        "  if i%2 ==0 :\n",
        "    if i%3 ==0 :\n",
        "      pass\n",
        "      s.append(\"Even\")\n",
        "    else:\n",
        "      s.append(\"Odd\")\n",
        "print(s)\n"
      ],
      "metadata": {
        "colab": {
          "base_uri": "https://localhost:8080/"
        },
        "id": "R4UUkgP_lYcJ",
        "outputId": "8007812b-965f-4307-954e-410ef7b13ef6"
      },
      "execution_count": null,
      "outputs": [
        {
          "output_type": "stream",
          "name": "stdout",
          "text": [
            "['Odd', 'Odd', 'Even', 'Even', 'Odd']\n"
          ]
        }
      ]
    },
    {
      "cell_type": "code",
      "source": [
        "try:\n",
        "  n = int(input(\"Enter an interger\"))\n",
        "except ValueError:\n",
        "  print(\"Invalid input\")\n"
      ],
      "metadata": {
        "colab": {
          "base_uri": "https://localhost:8080/"
        },
        "id": "qPTlgSyNl8CZ",
        "outputId": "b77a6054-f1e2-4c30-8586-83c436613a2f"
      },
      "execution_count": null,
      "outputs": [
        {
          "output_type": "stream",
          "name": "stdout",
          "text": [
            "Enter an intergervenno\n",
            "Invalid input\n"
          ]
        }
      ]
    },
    {
      "cell_type": "code",
      "source": [
        "x =10\n",
        "code = \"if x % 4 == 0 :\"\n",
        "\n",
        "try:\n",
        "    eval(code)\n",
        "except SyntaxError:\n",
        "    print(\"Invalid syntax\")"
      ],
      "metadata": {
        "colab": {
          "base_uri": "https://localhost:8080/"
        },
        "id": "0FK_UFLMnOhO",
        "outputId": "1c491e1b-d8e4-4469-b430-3d81f09cf4e2"
      },
      "execution_count": null,
      "outputs": [
        {
          "output_type": "stream",
          "name": "stdout",
          "text": [
            "Invalid syntax\n"
          ]
        }
      ]
    },
    {
      "cell_type": "code",
      "source": [
        "while True:\n",
        "    x= int(input(\"enter the input\"))\n",
        "    if x == 5:\n",
        "        print(\"Exit\")\n",
        "        break\n",
        "\n",
        "    if x % 4 == 0:\n",
        "        print(\"skip\")\n",
        "        continue\n",
        "\n",
        "    print(x ** 2)\n"
      ],
      "metadata": {
        "colab": {
          "base_uri": "https://localhost:8080/"
        },
        "id": "PbmL74GqqjCZ",
        "outputId": "461f7409-f63b-4eef-9077-6093cf65249d"
      },
      "execution_count": null,
      "outputs": [
        {
          "output_type": "stream",
          "name": "stdout",
          "text": [
            "enter the input1\n",
            "1\n",
            "enter the input1\n",
            "1\n",
            "enter the input2\n",
            "4\n",
            "enter the input3\n",
            "9\n",
            "enter the input4\n",
            "skip\n",
            "enter the input5\n",
            "Exit\n"
          ]
        }
      ]
    },
    {
      "cell_type": "code",
      "source": [
        "for x in range(3):\n",
        "    for y in range(3):\n",
        "        print(\"*\", end=\" \")\n",
        "    print(\"\")"
      ],
      "metadata": {
        "colab": {
          "base_uri": "https://localhost:8080/"
        },
        "id": "r_4MAdFPukdC",
        "outputId": "0ac1e26f-7ed4-4f76-ba8a-75514193cb14"
      },
      "execution_count": null,
      "outputs": [
        {
          "output_type": "stream",
          "name": "stdout",
          "text": [
            "* * * \n",
            "* * * \n",
            "* * * \n"
          ]
        }
      ]
    },
    {
      "cell_type": "code",
      "source": [
        "x = 5\n",
        "\n",
        "for i in range(1, x + 1):\n",
        "\n",
        "    print('*' * i)"
      ],
      "metadata": {
        "colab": {
          "base_uri": "https://localhost:8080/"
        },
        "id": "007EWBCpvEAc",
        "outputId": "d7318657-9eaa-4111-9a63-6a638b6e9c6e"
      },
      "execution_count": null,
      "outputs": [
        {
          "output_type": "stream",
          "name": "stdout",
          "text": [
            "*\n",
            "**\n",
            "***\n",
            "****\n",
            "*****\n"
          ]
        }
      ]
    },
    {
      "cell_type": "code",
      "source": [
        "n = 5\n",
        "for x in range(n):\n",
        "  for y in range(x + 1):\n",
        "    print ('*', end = \"\")\n",
        "  print('', end = \"\")\n"
      ],
      "metadata": {
        "colab": {
          "base_uri": "https://localhost:8080/"
        },
        "id": "GYVNiwkhxNOW",
        "outputId": "42c1cf66-629e-4a04-85d7-041541a505b7"
      },
      "execution_count": null,
      "outputs": [
        {
          "output_type": "stream",
          "name": "stdout",
          "text": [
            "***************"
          ]
        }
      ]
    },
    {
      "cell_type": "code",
      "source": [
        "n = 5\n",
        "for x in range(n):\n",
        "  for y in range(x + 1):\n",
        "    print ('*', end = \"\")\n",
        "print()"
      ],
      "metadata": {
        "colab": {
          "base_uri": "https://localhost:8080/"
        },
        "id": "2PouGRM5zAfz",
        "outputId": "bb8c4acf-d447-4a39-dfce-27559b397be7"
      },
      "execution_count": null,
      "outputs": [
        {
          "output_type": "stream",
          "name": "stdout",
          "text": [
            "***************\n"
          ]
        }
      ]
    },
    {
      "cell_type": "code",
      "source": [
        "for i in range(5):\n",
        "    for k in range(0,5-i):\n",
        "        print(end=\" \")\n",
        "    for j in range(0,2*i+1):\n",
        "        print(\"*\",end=\"\")\n",
        "    print()"
      ],
      "metadata": {
        "colab": {
          "base_uri": "https://localhost:8080/"
        },
        "id": "SZADg4dcx_C3",
        "outputId": "c953d17d-a252-4430-9680-c00214d7bb29"
      },
      "execution_count": null,
      "outputs": [
        {
          "output_type": "stream",
          "name": "stdout",
          "text": [
            "     *\n",
            "    ***\n",
            "   *****\n",
            "  *******\n",
            " *********\n"
          ]
        }
      ]
    },
    {
      "cell_type": "code",
      "source": [
        "for i in range(5):\n",
        "    for k in range(0,5-i):\n",
        "        print(end=\" \")\n",
        "    for j in range(0,2*i+1):\n",
        "        print(\"*\",end=\"\")\n",
        "\n",
        "    print()"
      ],
      "metadata": {
        "colab": {
          "base_uri": "https://localhost:8080/"
        },
        "id": "CxJoLbc6yVbs",
        "outputId": "522e04f1-4946-4499-d615-2d7e22e1fa57"
      },
      "execution_count": null,
      "outputs": [
        {
          "output_type": "stream",
          "name": "stdout",
          "text": [
            "     *\n",
            "    ***\n",
            "   *****\n",
            "  *******\n",
            " *********\n"
          ]
        }
      ]
    },
    {
      "cell_type": "code",
      "source": [
        "n = 5\n",
        "for i in range(n):\n",
        "    x = \" \" * (n - i - 1)\n",
        "    y = \"*\" * (2 * i + 1)\n",
        "    print(x + y)"
      ],
      "metadata": {
        "colab": {
          "base_uri": "https://localhost:8080/"
        },
        "id": "7Lb_6Qd40jL6",
        "outputId": "0d171e89-cec1-4af9-c17d-35df4728dddf"
      },
      "execution_count": null,
      "outputs": [
        {
          "output_type": "stream",
          "name": "stdout",
          "text": [
            "    *\n",
            "   ***\n",
            "  *****\n",
            " *******\n",
            "*********\n"
          ]
        }
      ]
    },
    {
      "cell_type": "code",
      "source": [],
      "metadata": {
        "id": "xCpIfkUI4h-1"
      },
      "execution_count": null,
      "outputs": []
    },
    {
      "cell_type": "code",
      "source": [
        "\n",
        "for i in range(5):\n",
        "    sp = \" \" * (5 - i - 1)\n",
        "    st= \"*\" * (2 * i + 1)\n",
        "    print(sp + st)"
      ],
      "metadata": {
        "colab": {
          "base_uri": "https://localhost:8080/"
        },
        "id": "K76zHWyE00km",
        "outputId": "a24a2d6a-5cb9-4eb6-9b48-e2e4d8798835"
      },
      "execution_count": null,
      "outputs": [
        {
          "output_type": "stream",
          "name": "stdout",
          "text": [
            "    *\n",
            "   ***\n",
            "  *****\n",
            " *******\n",
            "*********\n"
          ]
        }
      ]
    },
    {
      "cell_type": "code",
      "source": [
        "s=\"hello\"\n",
        "s"
      ],
      "metadata": {
        "colab": {
          "base_uri": "https://localhost:8080/",
          "height": 35
        },
        "id": "eYh6XOmJcgX_",
        "outputId": "2f68910f-a4e8-4306-f9c5-60d6fa0ced79"
      },
      "execution_count": null,
      "outputs": [
        {
          "output_type": "execute_result",
          "data": {
            "text/plain": [
              "'olleh'"
            ],
            "application/vnd.google.colaboratory.intrinsic+json": {
              "type": "string"
            }
          },
          "metadata": {},
          "execution_count": 28
        }
      ]
    },
    {
      "cell_type": "code",
      "source": [],
      "metadata": {
        "id": "rhN48DL2ZXI5"
      },
      "execution_count": null,
      "outputs": []
    },
    {
      "cell_type": "code",
      "source": [
        "a,b=5,3\n",
        "a %=b\n",
        "print(a)"
      ],
      "metadata": {
        "colab": {
          "base_uri": "https://localhost:8080/"
        },
        "id": "Ot1qH2x5X0s6",
        "outputId": "034fa3a9-6e30-4e8a-9420-7a08a4e36ae9"
      },
      "execution_count": null,
      "outputs": [
        {
          "output_type": "stream",
          "name": "stdout",
          "text": [
            "2\n"
          ]
        }
      ]
    },
    {
      "cell_type": "code",
      "source": [
        "def mainfunc():\n",
        "  x='Welcome to python'\n",
        "  print (x)\n",
        "  mainfunc()"
      ],
      "metadata": {
        "id": "0gadLG51nvP_"
      },
      "execution_count": null,
      "outputs": []
    },
    {
      "cell_type": "code",
      "source": [
        "name = input(\"Ënter your name: \")\n",
        "print(name)"
      ],
      "metadata": {
        "colab": {
          "base_uri": "https://localhost:8080/"
        },
        "id": "qT_3zfM_oxJT",
        "outputId": "ca7abe68-2672-42ab-c27b-8c1bd0063028"
      },
      "execution_count": null,
      "outputs": [
        {
          "output_type": "stream",
          "name": "stdout",
          "text": [
            "Ënter your name: tom\n",
            "tom\n"
          ]
        }
      ]
    },
    {
      "cell_type": "code",
      "source": [
        "a,b=map(int,input(\"ënter the number:\").split())\n",
        "print(\"first value:a\",a)\n",
        "print(\"first value:b\", b)"
      ],
      "metadata": {
        "colab": {
          "base_uri": "https://localhost:8080/"
        },
        "id": "JQYRBoj9qTp2",
        "outputId": "248ee2c9-2611-40e0-baa3-00fd550966ad"
      },
      "execution_count": null,
      "outputs": [
        {
          "output_type": "stream",
          "name": "stdout",
          "text": [
            "ënter the number:1 2\n",
            "first value:a 1\n",
            "first value:b 2\n"
          ]
        }
      ]
    }
  ]
}