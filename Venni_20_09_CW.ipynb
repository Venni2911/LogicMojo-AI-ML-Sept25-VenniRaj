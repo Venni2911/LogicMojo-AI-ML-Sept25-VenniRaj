{
  "nbformat": 4,
  "nbformat_minor": 0,
  "metadata": {
    "colab": {
      "provenance": [],
      "authorship_tag": "ABX9TyMHtasZWDx7KnOtYqPp9SML",
      "include_colab_link": true
    },
    "kernelspec": {
      "name": "python3",
      "display_name": "Python 3"
    },
    "language_info": {
      "name": "python"
    }
  },
  "cells": [
    {
      "cell_type": "markdown",
      "metadata": {
        "id": "view-in-github",
        "colab_type": "text"
      },
      "source": [
        "<a href=\"https://colab.research.google.com/github/Venni2911/LogicMojo-AI-ML-Sept25-VenniRaj/blob/main/Venni_20_09_CW.ipynb\" target=\"_parent\"><img src=\"https://colab.research.google.com/assets/colab-badge.svg\" alt=\"Open In Colab\"/></a>"
      ]
    },
    {
      "cell_type": "code",
      "execution_count": 11,
      "metadata": {
        "colab": {
          "base_uri": "https://localhost:8080/"
        },
        "id": "Ov0zKghLLHuP",
        "outputId": "9cc5a142-4383-4249-a841-566e546e44ff"
      },
      "outputs": [
        {
          "output_type": "stream",
          "name": "stdout",
          "text": [
            "enter the input5\n",
            "    *\n",
            "   ***\n",
            "  *****\n",
            " *******\n",
            "*********\n",
            " *******\n",
            "  *****\n",
            "   ***\n",
            "    *\n"
          ]
        }
      ],
      "source": [
        "n = int(input(\"enter the input\"))\n",
        "\n",
        "for i in range(n):\n",
        "    sp = \" \" * (n - i - 1)\n",
        "    st= \"*\" * (2 * i + 1)\n",
        "    print(sp + st)\n",
        "\n",
        "for i in range(n - 2, -1, -1):\n",
        "    sp = \" \" * (n - i - 1)\n",
        "    st = \"*\" * (2 * i + 1)\n",
        "    print(sp + st)\n",
        ""
      ]
    },
    {
      "cell_type": "code",
      "source": [
        "n =5\n",
        "for i in range(n):\n",
        "    if i == 0 or i == n-1:\n",
        "        print(\"*\" * n)\n",
        "    else:\n",
        "        print(\"*\")"
      ],
      "metadata": {
        "colab": {
          "base_uri": "https://localhost:8080/"
        },
        "id": "LLmMIANpUf76",
        "outputId": "85d45d21-fb7d-42a7-8b54-a9b32f03d4bf"
      },
      "execution_count": 16,
      "outputs": [
        {
          "output_type": "stream",
          "name": "stdout",
          "text": [
            "*****\n",
            "*\n",
            "*\n",
            "*\n",
            "*****\n"
          ]
        }
      ]
    },
    {
      "cell_type": "code",
      "source": [
        "n=5\n",
        "\n",
        "for i in range(n):\n",
        "    if i == 0 or i == n-1:\n",
        "        print(\"*\" * n)\n",
        "    else:\n",
        "        print(\"*\" + \" \" * (n-2) + \"*\")"
      ],
      "metadata": {
        "colab": {
          "base_uri": "https://localhost:8080/"
        },
        "id": "7QvH44AIVjGb",
        "outputId": "9ae3fcbf-6cd1-463b-c9f3-7f46c640112c"
      },
      "execution_count": 19,
      "outputs": [
        {
          "output_type": "stream",
          "name": "stdout",
          "text": [
            "*****\n",
            "*   *\n",
            "*   *\n",
            "*   *\n",
            "*****\n"
          ]
        }
      ]
    },
    {
      "cell_type": "code",
      "source": [
        "n=5\n",
        "\n",
        "for i in range(n):\n",
        "    if i == 0 or i == n-1:\n",
        "        print(\"*\" * n)"
      ],
      "metadata": {
        "colab": {
          "base_uri": "https://localhost:8080/"
        },
        "id": "zv-GK0RpV-MN",
        "outputId": "d8859722-e180-4d59-ff9a-830484f7c7e1"
      },
      "execution_count": 20,
      "outputs": [
        {
          "output_type": "stream",
          "name": "stdout",
          "text": [
            "*****\n",
            "*****\n"
          ]
        }
      ]
    },
    {
      "cell_type": "code",
      "source": [
        "l =[]\n",
        "p=\"abrsba\"\n",
        "for i in range(len(p)-1,0,-1):\n",
        "  if p[i] != p[len(p)-i]:\n",
        "    print(\"palindrome\")\n",
        "    break"
      ],
      "metadata": {
        "colab": {
          "base_uri": "https://localhost:8080/"
        },
        "id": "KFzVWH7lW4FA",
        "outputId": "074de67b-3c01-4a2b-b05d-68bb151135ab"
      },
      "execution_count": 28,
      "outputs": [
        {
          "output_type": "stream",
          "name": "stdout",
          "text": [
            "palindrome\n"
          ]
        }
      ]
    },
    {
      "cell_type": "code",
      "source": [
        "t = [2,3,4]\n",
        "t1 = [1,2,3,'a','s']\n",
        "t\n",
        "s=set(t)\n",
        "s\n",
        "t = list(s)\n",
        "s\n",
        "s=set(t1)\n",
        "s\n"
      ],
      "metadata": {
        "colab": {
          "base_uri": "https://localhost:8080/"
        },
        "id": "XDK8lSnbcSS4",
        "outputId": "6500022d-9002-481c-fda4-fc24df37a378"
      },
      "execution_count": 35,
      "outputs": [
        {
          "output_type": "execute_result",
          "data": {
            "text/plain": [
              "{1, 2, 3, 'a', 's'}"
            ]
          },
          "metadata": {},
          "execution_count": 35
        }
      ]
    },
    {
      "cell_type": "code",
      "source": [
        "t = [2,3,4]\n",
        "l = [1,2,3,'a','s']\n",
        "s={91,2,30,33,31}\n",
        "t= (1,2,3)\n",
        "s.discard(4)\n",
        "s\n"
      ],
      "metadata": {
        "colab": {
          "base_uri": "https://localhost:8080/"
        },
        "id": "ljYqBNo4c-AO",
        "outputId": "63cb620b-9b8c-4eb2-b947-c38d34ded123"
      },
      "execution_count": 41,
      "outputs": [
        {
          "output_type": "execute_result",
          "data": {
            "text/plain": [
              "{2, 30, 31, 33, 91}"
            ]
          },
          "metadata": {},
          "execution_count": 41
        }
      ]
    },
    {
      "cell_type": "code",
      "source": [
        "s = {1,5,7,2,3,6,88,8,4,10}\n",
        "s.pop()\n",
        "s\n"
      ],
      "metadata": {
        "colab": {
          "base_uri": "https://localhost:8080/"
        },
        "id": "cUfRUBTeeosi",
        "outputId": "1f6bb4b8-4157-4363-dbaf-a2f85a5b212e"
      },
      "execution_count": 46,
      "outputs": [
        {
          "output_type": "execute_result",
          "data": {
            "text/plain": [
              "{2, 3, 4, 5, 6, 7, 8, 10, 88}"
            ]
          },
          "metadata": {},
          "execution_count": 46
        }
      ]
    },
    {
      "cell_type": "code",
      "source": [
        "s = {1,6,7,2,3}\n",
        "s.pop()\n",
        "s\n",
        "print(s.pop())\n",
        "print(s)"
      ],
      "metadata": {
        "colab": {
          "base_uri": "https://localhost:8080/"
        },
        "id": "dwj37AyDfVgt",
        "outputId": "c75c6195-c4de-4465-bf60-1fa803ddab08"
      },
      "execution_count": 51,
      "outputs": [
        {
          "output_type": "stream",
          "name": "stdout",
          "text": [
            "2\n",
            "{3, 6, 7}\n"
          ]
        }
      ]
    },
    {
      "cell_type": "code",
      "source": [
        "l=[1,2,4]\n",
        "l.append(22)\n",
        "l\n"
      ],
      "metadata": {
        "colab": {
          "base_uri": "https://localhost:8080/"
        },
        "id": "wAEyyYC4gPDD",
        "outputId": "8f30682a-7708-4d5c-b84c-a753d453951e"
      },
      "execution_count": 55,
      "outputs": [
        {
          "output_type": "execute_result",
          "data": {
            "text/plain": [
              "[1, 2, 4, 22]"
            ]
          },
          "metadata": {},
          "execution_count": 55
        }
      ]
    },
    {
      "cell_type": "code",
      "source": [
        "l=[1,2,4]\n",
        "l.extend([22,44,55])\n",
        "l"
      ],
      "metadata": {
        "colab": {
          "base_uri": "https://localhost:8080/"
        },
        "id": "QFLe2V10gX1s",
        "outputId": "6eab139e-c2ff-473d-9d79-6f3a14c27413"
      },
      "execution_count": 53,
      "outputs": [
        {
          "output_type": "execute_result",
          "data": {
            "text/plain": [
              "[1, 2, 4, 22, 44, 55]"
            ]
          },
          "metadata": {},
          "execution_count": 53
        }
      ]
    },
    {
      "cell_type": "code",
      "source": [
        "d = dict(name='aa',age=22)\n",
        "d"
      ],
      "metadata": {
        "colab": {
          "base_uri": "https://localhost:8080/"
        },
        "id": "k38XH_osgvIc",
        "outputId": "1ef26e03-b6b5-4c20-8121-70c6c2c0d84e"
      },
      "execution_count": 58,
      "outputs": [
        {
          "output_type": "execute_result",
          "data": {
            "text/plain": [
              "{'name': 'aa', 'age': 22}"
            ]
          },
          "metadata": {},
          "execution_count": 58
        }
      ]
    },
    {
      "cell_type": "code",
      "source": [
        "d = dict(name='aa',age=22,city='bb')\n",
        "\n",
        "d"
      ],
      "metadata": {
        "colab": {
          "base_uri": "https://localhost:8080/"
        },
        "id": "SSV6k096hVNs",
        "outputId": "03514d13-a439-45a1-ba79-af2ad84b57b9"
      },
      "execution_count": 66,
      "outputs": [
        {
          "output_type": "execute_result",
          "data": {
            "text/plain": [
              "{'name': 'aa', 'age': 22, 'city': 'bb'}"
            ]
          },
          "metadata": {},
          "execution_count": 66
        }
      ]
    },
    {
      "cell_type": "code",
      "source": [
        "d1=d.copy()\n",
        "d1"
      ],
      "metadata": {
        "colab": {
          "base_uri": "https://localhost:8080/"
        },
        "id": "33ABaMIwhCB6",
        "outputId": "c0b4a023-5460-41d5-cda7-4bf817254b04"
      },
      "execution_count": 59,
      "outputs": [
        {
          "output_type": "execute_result",
          "data": {
            "text/plain": [
              "{'name': 'aa', 'age': 22}"
            ]
          },
          "metadata": {},
          "execution_count": 59
        }
      ]
    },
    {
      "cell_type": "code",
      "source": [
        "d.get('name')\n",
        "print(d.get('name'))\n"
      ],
      "metadata": {
        "colab": {
          "base_uri": "https://localhost:8080/"
        },
        "id": "hQRAwxBFhFO8",
        "outputId": "702c5908-aa3b-4fdc-e000-d578c04aeb38"
      },
      "execution_count": 61,
      "outputs": [
        {
          "output_type": "stream",
          "name": "stdout",
          "text": [
            "aa\n"
          ]
        }
      ]
    },
    {
      "cell_type": "code",
      "source": [
        "d = dict(name='aa',age=22,city='bb')\n",
        "d.keys()\n",
        "d.values()\n",
        "d.items()"
      ],
      "metadata": {
        "colab": {
          "base_uri": "https://localhost:8080/"
        },
        "id": "_Mvi_hw7huUM",
        "outputId": "a6d1572a-43b4-4bba-c58d-c2b90ab35707"
      },
      "execution_count": 69,
      "outputs": [
        {
          "output_type": "execute_result",
          "data": {
            "text/plain": [
              "dict_items([('name', 'aa'), ('age', 22), ('city', 'bb')])"
            ]
          },
          "metadata": {},
          "execution_count": 69
        }
      ]
    },
    {
      "cell_type": "code",
      "source": [
        "d = dict(\n",
        "    name='aa',\n",
        "    age=22,\n",
        "    city='bb',\n",
        "    income = dict(basic = 2000,allowance =1000,bonus=111)\n",
        ")\n",
        "d"
      ],
      "metadata": {
        "colab": {
          "base_uri": "https://localhost:8080/"
        },
        "id": "-9wXLopDh5qA",
        "outputId": "32163852-551a-4ab7-94bb-70748b9e3690"
      },
      "execution_count": 77,
      "outputs": [
        {
          "output_type": "execute_result",
          "data": {
            "text/plain": [
              "{'name': 'aa',\n",
              " 'age': 22,\n",
              " 'city': 'bb',\n",
              " 'income': {'basic': 2000, 'allowance': 1000, 'bonus': 111}}"
            ]
          },
          "metadata": {},
          "execution_count": 77
        }
      ]
    },
    {
      "cell_type": "code",
      "source": [
        "d = {\n",
        "    'name': 'aa',\n",
        "    'age': 22,\n",
        "    'city': 'bb',\n",
        "    'income': {\n",
        "        'basic': 2000,\n",
        "        'allowance': 1000,\n",
        "        'bonus': 111\n",
        "    }\n",
        "}\n",
        "d"
      ],
      "metadata": {
        "colab": {
          "base_uri": "https://localhost:8080/"
        },
        "id": "xcjIJDpqjv0P",
        "outputId": "8df80d0b-7847-4e1e-9aed-de1db3913896"
      },
      "execution_count": 78,
      "outputs": [
        {
          "output_type": "execute_result",
          "data": {
            "text/plain": [
              "{'name': 'aa',\n",
              " 'age': 22,\n",
              " 'city': 'bb',\n",
              " 'income': {'basic': 2000, 'allowance': 1000, 'bonus': 111}}"
            ]
          },
          "metadata": {},
          "execution_count": 78
        }
      ]
    },
    {
      "cell_type": "code",
      "source": [
        "d = dict(\n",
        "    name='aa',\n",
        "    age=22,\n",
        "    city='bb',\n",
        "    income=dict(\n",
        "        basic=2000,\n",
        "        allowance=1000,\n",
        "        bonus=111\n",
        "    )\n",
        ")\n",
        "d"
      ],
      "metadata": {
        "colab": {
          "base_uri": "https://localhost:8080/"
        },
        "id": "YIhWIXIZjeVZ",
        "outputId": "701a2da9-8611-4cce-e7fc-c77ed6666c9e"
      },
      "execution_count": 74,
      "outputs": [
        {
          "output_type": "execute_result",
          "data": {
            "text/plain": [
              "{'name': 'aa',\n",
              " 'age': 22,\n",
              " 'city': 'bb',\n",
              " 'income': {'basic': 2000, 'allowance': 1000, 'bonus': 111}}"
            ]
          },
          "metadata": {},
          "execution_count": 74
        }
      ]
    },
    {
      "cell_type": "code",
      "source": [
        "class Node:\n",
        "  head = None\n",
        "\n",
        "  def __init__(self,data= None) -> None:\n",
        "    self.data = data\n",
        "    self.next = None\n",
        "\n",
        "  def insert_at_beginning(self,data):\n",
        "    new_node = Node(data)\n",
        "    new_node.next = self.head\n",
        "    self.head = new_node\n",
        "\n",
        "    def insert_at_beginning(self,data):\n",
        "      new_node = Node(data)\n",
        "      if self.head is None:\n",
        "          self.head = new_node\n",
        "      return\n",
        "    new_node.next = self.head\n",
        "    self.head = new_node\n",
        "\n",
        "  def insert_at_beginning(self,data):\n",
        "    new_node = Node(data)\n",
        "    new_node.next = self.head\n",
        "    self.head = new_node\n",
        "\n",
        "  def insert_at_end(self,data):\n",
        "    new_node = Node(data)\n",
        "    if self.head is None:\n",
        "      self.head = new_node\n",
        "      return\n",
        "    itr = self.head\n",
        "    while itr.next:\n",
        "      itr = itr.next\n",
        "\n",
        "    itr.next = new_node\n"
      ],
      "metadata": {
        "id": "B6oWv5Onpgny"
      },
      "execution_count": null,
      "outputs": []
    },
    {
      "cell_type": "code",
      "source": [
        "class Node:\n",
        "\n",
        "  def __init__(self,data) -> None:\n",
        "    self.data = data\n",
        "    self.next = None\n",
        "\n",
        "  def delete(self,key):\n",
        "    current = self.head\n",
        "    previous = None\n",
        "\n",
        "  if current and current.data == key:\n",
        "    self.head = current.next\n",
        "    return\n",
        "\n",
        "    while current and current.data != key:\n",
        "    previous = current\n",
        "    current = current.next\n",
        "\n",
        "  if current is None:\n",
        "    return\n",
        "\n",
        "  previous.next = current.next\n",
        "\n",
        ""
      ],
      "metadata": {
        "id": "qe_OJDw5wGYQ"
      },
      "execution_count": null,
      "outputs": []
    },
    {
      "cell_type": "markdown",
      "source": [
        "code for circular linked list (pesudocode)\n",
        "circular linked list - insertion, deletion\n",
        "\n"
      ],
      "metadata": {
        "id": "ISgYLN_B0iAg"
      }
    }
  ]
}