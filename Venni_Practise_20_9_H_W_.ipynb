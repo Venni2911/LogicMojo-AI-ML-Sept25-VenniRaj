{
  "nbformat": 4,
  "nbformat_minor": 0,
  "metadata": {
    "colab": {
      "provenance": [],
      "authorship_tag": "ABX9TyPrCYaImo6wUUBEDlA/56Ry",
      "include_colab_link": true
    },
    "kernelspec": {
      "name": "python3",
      "display_name": "Python 3"
    },
    "language_info": {
      "name": "python"
    }
  },
  "cells": [
    {
      "cell_type": "markdown",
      "metadata": {
        "id": "view-in-github",
        "colab_type": "text"
      },
      "source": [
        "<a href=\"https://colab.research.google.com/github/Venni2911/LogicMojo-AI-ML-Sept25-VenniRaj/blob/main/Venni_Practise_20_9_H_W_.ipynb\" target=\"_parent\"><img src=\"https://colab.research.google.com/assets/colab-badge.svg\" alt=\"Open In Colab\"/></a>"
      ]
    },
    {
      "cell_type": "code",
      "execution_count": null,
      "metadata": {
        "colab": {
          "base_uri": "https://localhost:8080/"
        },
        "id": "mbbvB8A0cbhG",
        "outputId": "c92ba1f5-e47f-469c-d40f-30a7b40cb845"
      },
      "outputs": [
        {
          "name": "stdout",
          "output_type": "stream",
          "text": [
            "Enter the input 0\n"
          ]
        }
      ],
      "source": [
        "x = int(input(\"Enter the input \"))\n",
        "\n",
        "if x == 0:\n",
        "   pass\n",
        "elif x % 2 == 0:\n",
        "  print(\"even\")\n",
        "else:\n",
        "  print(\"odd\")\n",
        "\n",
        "\n",
        "\n"
      ]
    },
    {
      "cell_type": "code",
      "source": [
        "n = int(input(\"enter the input\"))\n",
        "\n",
        "for i in range(n):\n",
        "    sp = \" \" * (n - i - 1)\n",
        "    st= \"*\" * (2 * i + 1)\n",
        "    print(sp + st)\n",
        "\n",
        "for i in range(n - 2, -1, -1):\n",
        "    sp = \" \" * (n - i - 1)\n",
        "    st = \"*\" * (2 * i + 1)\n",
        "    print(sp + st)"
      ],
      "metadata": {
        "colab": {
          "base_uri": "https://localhost:8080/"
        },
        "id": "Y1lfg2VNTwKQ",
        "outputId": "ff913656-d042-4e55-8106-374eebb01754"
      },
      "execution_count": 1,
      "outputs": [
        {
          "output_type": "stream",
          "name": "stdout",
          "text": [
            "enter the input5\n",
            "    *\n",
            "   ***\n",
            "  *****\n",
            " *******\n",
            "*********\n",
            " *******\n",
            "  *****\n",
            "   ***\n",
            "    *\n"
          ]
        }
      ]
    },
    {
      "cell_type": "code",
      "source": [
        "n=5\n",
        "\n",
        "for i in range(n):\n",
        "    if i == 0 or i == n-1:\n",
        "        print(\"*\" * n)\n",
        "    else:\n",
        "        print(\"*\" + \" \" * (n-2) + \"*\")"
      ],
      "metadata": {
        "id": "HVanssDTWrHd",
        "outputId": "aa1a5db9-5e4b-411e-bb51-ef6c5809f0dd",
        "colab": {
          "base_uri": "https://localhost:8080/"
        }
      },
      "execution_count": 2,
      "outputs": [
        {
          "output_type": "stream",
          "name": "stdout",
          "text": [
            "*****\n",
            "*   *\n",
            "*   *\n",
            "*   *\n",
            "*****\n"
          ]
        }
      ]
    },
    {
      "cell_type": "code",
      "source": [
        "while True:\n",
        "  x = int(input(\"Enter the input \"))\n",
        "  if x == 0:\n",
        "    print(\"Enter numbers other than 0\")\n",
        "    continue\n",
        "  elif x % 2 == 0:\n",
        "    print(\"even\")\n",
        "    break\n",
        "  else:\n",
        "    print(\"odd\")\n",
        "    break\n",
        "\n",
        "print(\"outside loop\")\n",
        "\n",
        "\n"
      ],
      "metadata": {
        "colab": {
          "base_uri": "https://localhost:8080/"
        },
        "id": "KQofangIg1HA",
        "outputId": "cd191cbd-fde7-40bc-e89e-248bf52d0142"
      },
      "execution_count": null,
      "outputs": [
        {
          "output_type": "stream",
          "name": "stdout",
          "text": [
            "Enter the input 0\n",
            "Enter numbers other than 0\n",
            "Enter the input 5\n",
            "odd\n",
            "am out of loop bec of pass\n"
          ]
        }
      ]
    },
    {
      "cell_type": "code",
      "source": [
        "while True:\n",
        "  x = int(input(\"Enter the input \"))\n",
        "  if x == 0:\n",
        "    print(\"Enter numbers other than 0\")\n",
        "    continue\n",
        "  elif x % 2 == 0:\n",
        "    print(\"even\")\n",
        "  else:\n",
        "    print(\"odd\")\n",
        "  break\n",
        "\n",
        "print(\"outside loop\")"
      ],
      "metadata": {
        "colab": {
          "base_uri": "https://localhost:8080/"
        },
        "id": "_lMKbR7pfS0D",
        "outputId": "c3ad9ad8-d410-41db-e6ef-dd02f08b31cb"
      },
      "execution_count": null,
      "outputs": [
        {
          "output_type": "stream",
          "name": "stdout",
          "text": [
            "Enter the input 0\n",
            "Enter numbers other than 0\n",
            "Enter the input 5\n",
            "odd\n",
            "outside loop\n"
          ]
        }
      ]
    },
    {
      "cell_type": "code",
      "source": [
        "# reverse\n",
        "string = input(\"Enter the string\")\n",
        "\n",
        "revestring = string[::-1]\n",
        "print(\"Reversed String:\", revestring)\n",
        "print(\"Reversed String:\" + revestring)\n",
        "\n",
        "if string == revestring:\n",
        "  print(\"Palindrom\")\n",
        "else:\n",
        "  print(\"Not Palindrome\")\n"
      ],
      "metadata": {
        "colab": {
          "base_uri": "https://localhost:8080/"
        },
        "id": "UKIb9We-3xKh",
        "outputId": "7c9c9605-abb5-4313-8497-bd04856babfb"
      },
      "execution_count": null,
      "outputs": [
        {
          "output_type": "stream",
          "name": "stdout",
          "text": [
            "Enter the stringababa\n",
            "Reversed String: ababa\n",
            "Reversed String:ababa\n",
            "Palindrom\n"
          ]
        }
      ]
    },
    {
      "cell_type": "code",
      "source": [
        "# reverse with reverse() keyword\n",
        "string = input(\"Enter the string: \")\n",
        "\n",
        "listvalues = list(string)\n",
        "listvalues.reverse()\n",
        "\n",
        "revestring = ''.join(listvalues)\n",
        "\n",
        "print(\"Reversed String:\", revestring)\n",
        "print(\"Reversed String:\" + revestring)\n",
        "\n",
        "if string == revestring:\n",
        "    print(\"Palindrome\")\n",
        "else:\n",
        "    print(\"Not Palindrome\")\n"
      ],
      "metadata": {
        "colab": {
          "base_uri": "https://localhost:8080/"
        },
        "id": "WrgPbSJvB-PK",
        "outputId": "caf703f9-a53f-46dd-c40e-6211b1ee247b"
      },
      "execution_count": null,
      "outputs": [
        {
          "output_type": "stream",
          "name": "stdout",
          "text": [
            "Enter the string: venni karthik\n",
            "Reversed String: kihtrak innev\n",
            "Reversed String:kihtrak innev\n",
            "Not Palindrome\n"
          ]
        }
      ]
    },
    {
      "cell_type": "code",
      "source": [
        "# no of spaces\n",
        "string = input(\"Enter the string: \")\n",
        "\n",
        "count = 0\n",
        "\n",
        "for x in string:\n",
        "  if x == ' ':\n",
        "    count += 1\n",
        "print(\"The count of spaces\", count)"
      ],
      "metadata": {
        "colab": {
          "base_uri": "https://localhost:8080/"
        },
        "id": "_m1reJ8GEGPT",
        "outputId": "8d76dee1-5123-404a-9408-1c2cafa06a75"
      },
      "execution_count": null,
      "outputs": [
        {
          "output_type": "stream",
          "name": "stdout",
          "text": [
            "Enter the string: vennnnn\n",
            "The count of spaces 0\n"
          ]
        }
      ]
    },
    {
      "cell_type": "code",
      "source": [
        "# no of vowels\n",
        "\n",
        "string = input(\"Enter the string: \")\n",
        "\n",
        "count = 0\n",
        "vowels = \"aeiouAEIOU\"\n",
        "\n",
        "for x in string:\n",
        "  if x in vowels:\n",
        "    count += 1\n",
        "print(\"The count of vowels\", count)"
      ],
      "metadata": {
        "colab": {
          "base_uri": "https://localhost:8080/"
        },
        "id": "fNz6wkPLFFAl",
        "outputId": "f61f4a2d-69a0-4102-e58b-f0ca007f0750"
      },
      "execution_count": null,
      "outputs": [
        {
          "output_type": "stream",
          "name": "stdout",
          "text": [
            "Enter the string: venni\n",
            "The count of vowels 2\n"
          ]
        }
      ]
    }
  ]
}