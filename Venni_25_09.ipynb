{
  "nbformat": 4,
  "nbformat_minor": 0,
  "metadata": {
    "colab": {
      "provenance": [],
      "authorship_tag": "ABX9TyNiHpTN+8ktgCui2BrFtSoH",
      "include_colab_link": true
    },
    "kernelspec": {
      "name": "python3",
      "display_name": "Python 3"
    },
    "language_info": {
      "name": "python"
    }
  },
  "cells": [
    {
      "cell_type": "markdown",
      "metadata": {
        "id": "view-in-github",
        "colab_type": "text"
      },
      "source": [
        "<a href=\"https://colab.research.google.com/github/Venni2911/LogicMojo-AI-ML-Sept25-VenniRaj/blob/main/Venni_25_09.ipynb\" target=\"_parent\"><img src=\"https://colab.research.google.com/assets/colab-badge.svg\" alt=\"Open In Colab\"/></a>"
      ]
    },
    {
      "cell_type": "code",
      "execution_count": null,
      "metadata": {
        "id": "q6uOfhhImqT4",
        "colab": {
          "base_uri": "https://localhost:8080/"
        },
        "outputId": "9df41f06-c09f-4856-e4a3-c7c459b0debc"
      },
      "outputs": [
        {
          "output_type": "stream",
          "name": "stdout",
          "text": [
            "[1, 2, 3, 4, 5, 7, 2, 4, 6, 11, 15, 21, 16]\n"
          ]
        }
      ],
      "source": [
        "x = [1,2,3,4,5,7,2,4,6,11,15,21,16]\n",
        "type(x)\n",
        "print(x)\n"
      ]
    },
    {
      "cell_type": "code",
      "source": [
        "\n",
        "x.append(300)\n",
        "print(x)"
      ],
      "metadata": {
        "colab": {
          "base_uri": "https://localhost:8080/"
        },
        "id": "G1lph6QvT7XH",
        "outputId": "21a75784-1fea-4b74-d30f-0170a0ffb254"
      },
      "execution_count": null,
      "outputs": [
        {
          "output_type": "stream",
          "name": "stdout",
          "text": [
            "[1, 2, 3, 4, 5, 7, 2, 4, 6, 11, 15, 21, 16, 100, 100, 300]\n"
          ]
        }
      ]
    },
    {
      "cell_type": "code",
      "source": [
        "help(\"keywords\")"
      ],
      "metadata": {
        "colab": {
          "base_uri": "https://localhost:8080/"
        },
        "id": "n0WLpplnUw_I",
        "outputId": "ca7288ae-a677-45c6-b741-7bbe064f5c1e"
      },
      "execution_count": null,
      "outputs": [
        {
          "output_type": "stream",
          "name": "stdout",
          "text": [
            "\n",
            "Here is a list of the Python keywords.  Enter any keyword to get more help.\n",
            "\n",
            "False               class               from                or\n",
            "None                continue            global              pass\n",
            "True                def                 if                  raise\n",
            "and                 del                 import              return\n",
            "as                  elif                in                  try\n",
            "assert              else                is                  while\n",
            "async               except              lambda              with\n",
            "await               finally             nonlocal            yield\n",
            "break               for                 not                 \n",
            "\n"
          ]
        }
      ]
    },
    {
      "cell_type": "code",
      "source": [
        "n = input(\"enter the numbers: \")\n",
        "print(\"type of n is \",type(n))\n",
        "\n",
        "\n",
        "def venni():\n",
        "  x = n\n",
        "  print(x)\n",
        "\n",
        "\n",
        "venni()\n",
        "print(n)\n",
        "b = map(int,n)\n",
        "print(type(b))\n",
        "print(type(n))\n"
      ],
      "metadata": {
        "colab": {
          "base_uri": "https://localhost:8080/"
        },
        "id": "o4SgKtS9Wfvx",
        "outputId": "c36e81a0-c785-4945-9faf-56322ed2ad23"
      },
      "execution_count": null,
      "outputs": [
        {
          "output_type": "stream",
          "name": "stdout",
          "text": [
            "enter the numbers: 4 5\n",
            "type of n is  <class 'str'>\n",
            "4 5\n",
            "4 5\n",
            "<class 'map'>\n",
            "<class 'str'>\n"
          ]
        }
      ]
    },
    {
      "cell_type": "code",
      "source": [
        "c = [1,2,3,4,5]\n",
        "\n",
        "print(\"is the number is my list:\" , int(input(\"Enter the number: \")) in c)\n"
      ],
      "metadata": {
        "colab": {
          "base_uri": "https://localhost:8080/"
        },
        "id": "MlPsFVLHaf_i",
        "outputId": "9f0561d1-87d6-403e-c8ec-16aa8b8893a9"
      },
      "execution_count": null,
      "outputs": [
        {
          "output_type": "stream",
          "name": "stdout",
          "text": [
            "Enter the number: 5\n",
            "is the number is my list: True\n"
          ]
        }
      ]
    },
    {
      "cell_type": "code",
      "source": [
        "a, b = map(int, input(\"Enter two numbers separated by space: \").split())\n",
        "print(type(a))\n",
        "\n",
        "print(\"The first number is\", a)\n",
        "print(\"The second number is\", b)\n",
        "type(a)"
      ],
      "metadata": {
        "colab": {
          "base_uri": "https://localhost:8080/"
        },
        "id": "6ASyQ83nZM0K",
        "outputId": "3f415038-64a5-489a-d071-69fc79aedb7f"
      },
      "execution_count": null,
      "outputs": [
        {
          "output_type": "stream",
          "name": "stdout",
          "text": [
            "Enter two numbers separated by space: 4 5\n",
            "<class 'int'>\n",
            "The first number is 4\n",
            "The second number is 5\n"
          ]
        },
        {
          "output_type": "execute_result",
          "data": {
            "text/plain": [
              "int"
            ]
          },
          "metadata": {},
          "execution_count": 24
        }
      ]
    },
    {
      "cell_type": "code",
      "source": [
        "name =\"Venni\"\n",
        "print(type(name))\n",
        "nn = list(name)\n",
        "print(nn)\n",
        "print(type(nn))\n"
      ],
      "metadata": {
        "colab": {
          "base_uri": "https://localhost:8080/"
        },
        "id": "3Lo2Y6CsbcsX",
        "outputId": "d99947e1-ea48-4e81-ac3c-82bab70a33db"
      },
      "execution_count": null,
      "outputs": [
        {
          "output_type": "stream",
          "name": "stdout",
          "text": [
            "<class 'str'>\n",
            "['V', 'e', 'n', 'n', 'i']\n",
            "<class 'list'>\n"
          ]
        }
      ]
    },
    {
      "cell_type": "code",
      "source": [
        "set(nn)"
      ],
      "metadata": {
        "colab": {
          "base_uri": "https://localhost:8080/"
        },
        "id": "RTJYlNfGbu9m",
        "outputId": "40b58ec9-edb3-4149-fc03-b0afc2bcc272"
      },
      "execution_count": null,
      "outputs": [
        {
          "output_type": "execute_result",
          "data": {
            "text/plain": [
              "{'V', 'e', 'i', 'n'}"
            ]
          },
          "metadata": {},
          "execution_count": 31
        }
      ]
    },
    {
      "cell_type": "code",
      "source": [
        "tuple(nn)"
      ],
      "metadata": {
        "id": "9UhmvQywb0Sw",
        "outputId": "cf1c0af9-4dfe-4285-fe24-6091caf7ac03",
        "colab": {
          "base_uri": "https://localhost:8080/"
        }
      },
      "execution_count": null,
      "outputs": [
        {
          "output_type": "execute_result",
          "data": {
            "text/plain": [
              "('V', 'e', 'n', 'n', 'i')"
            ]
          },
          "metadata": {},
          "execution_count": 32
        }
      ]
    }
  ]
}