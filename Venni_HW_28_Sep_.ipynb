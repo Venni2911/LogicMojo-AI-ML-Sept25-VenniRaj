{
  "nbformat": 4,
  "nbformat_minor": 0,
  "metadata": {
    "colab": {
      "provenance": [],
      "authorship_tag": "ABX9TyOJYJx+mQxNrYNL8lLR6IGT",
      "include_colab_link": true
    },
    "kernelspec": {
      "name": "python3",
      "display_name": "Python 3"
    },
    "language_info": {
      "name": "python"
    }
  },
  "cells": [
    {
      "cell_type": "markdown",
      "metadata": {
        "id": "view-in-github",
        "colab_type": "text"
      },
      "source": [
        "<a href=\"https://colab.research.google.com/github/Venni2911/LogicMojo-AI-ML-Sept25-VenniRaj/blob/main/Venni_HW_28_Sep_.ipynb\" target=\"_parent\"><img src=\"https://colab.research.google.com/assets/colab-badge.svg\" alt=\"Open In Colab\"/></a>"
      ]
    },
    {
      "cell_type": "code",
      "execution_count": 1,
      "metadata": {
        "colab": {
          "base_uri": "https://localhost:8080/"
        },
        "id": "ldSCIKfk03MS",
        "outputId": "b4b9721f-d3a1-4ebf-ea7b-81cdf79cf824"
      },
      "outputs": [
        {
          "output_type": "stream",
          "name": "stdout",
          "text": [
            "Original data: ['Apple', 'Banana', 'Pear', 'Kiwi', 'Mango']\n",
            "Processed result: @bpkm\n",
            "@bpkm\n"
          ]
        }
      ],
      "source": [
        "from functools import reduce\n",
        "\n",
        "\n",
        "\n",
        "def my_decorator(func):\n",
        "    def wrapper(*args, **kwargs):\n",
        "        print(f\"Original data: {args[0]}\")\n",
        "        result = func(*args, **kwargs)\n",
        "        print(f\"Processed result: {result}\")\n",
        "        return result\n",
        "    return wrapper\n",
        "\n",
        "\n",
        "\n",
        "@my_decorator\n",
        "def process_strings(strings):\n",
        "    mapped = map(lambda s: s.lower().replace('a', '@'), strings)\n",
        "    filtered = filter(lambda s: len(s) > 3, mapped)\n",
        "    reduced = reduce(lambda acc, s: acc + s[0], filtered, \"\")\n",
        "    return reduced\n",
        "\n",
        "data = [\"Apple\", \"Banana\", \"Pear\", \"Kiwi\", \"Mango\"]\n",
        "result = process_strings(data)\n",
        "print(result)\n"
      ]
    },
    {
      "cell_type": "code",
      "source": [
        "class Calculator:\n",
        "    def add(self, *args):  # default arguments\n",
        "        return sum(args)\n",
        "\n",
        "\n",
        "class calc(Calculator):\n",
        "  pass\n",
        "\n",
        "calc = calc()\n",
        "print(calc.add(5))        # 5\n",
        "print(calc.add(5, 10))    # 15\n",
        "print(calc.add(5, 10, 15))# 30\n",
        "print(calc.add(5, 10, 15,20))"
      ],
      "metadata": {
        "colab": {
          "base_uri": "https://localhost:8080/"
        },
        "id": "PSTY4zWB3ngr",
        "outputId": "b4056fb4-aebd-4f15-e1cc-6b9cbfb1007d"
      },
      "execution_count": 2,
      "outputs": [
        {
          "output_type": "stream",
          "name": "stdout",
          "text": [
            "5\n",
            "15\n",
            "30\n",
            "50\n"
          ]
        }
      ]
    },
    {
      "cell_type": "code",
      "source": [
        "class dog():\n",
        "  def speak(self):\n",
        "    print('Bark')\n",
        "\n",
        "class cat():\n",
        "  def speak(self):\n",
        "    print('Meow')\n",
        "\n",
        "\n",
        "def make_speak(animal):\n",
        "  animal.speak()\n",
        "\n",
        "d = dog()\n",
        "c = cat()\n",
        "\n",
        "make_speak(d)\n",
        "make_speak(c)"
      ],
      "metadata": {
        "colab": {
          "base_uri": "https://localhost:8080/"
        },
        "id": "NTVjtzdl3pYq",
        "outputId": "ce4f8a49-5ea3-44f4-9149-f70c58994e9d"
      },
      "execution_count": 3,
      "outputs": [
        {
          "output_type": "stream",
          "name": "stdout",
          "text": [
            "Bark\n",
            "Meow\n"
          ]
        }
      ]
    },
    {
      "cell_type": "code",
      "source": [
        "class Animal:\n",
        "    def __init__(self, name):\n",
        "        self.name = name\n",
        "\n",
        "    def speak(self):\n",
        "        return f\"{self.name} makes a sound.\"\n",
        "\n",
        "class Dog(Animal):  # Single Inheritance\n",
        "    def speak(self):\n",
        "        return f\"{self.name} barks.\"\n",
        "\n",
        "# Usage\n",
        "dog = Dog(\"Buddy\")\n",
        "print(dog.speak())"
      ],
      "metadata": {
        "colab": {
          "base_uri": "https://localhost:8080/"
        },
        "id": "i1eCK16P88x6",
        "outputId": "1aad28d1-b181-4c38-d231-cfcd2487e236"
      },
      "execution_count": 4,
      "outputs": [
        {
          "output_type": "stream",
          "name": "stdout",
          "text": [
            "Buddy barks.\n"
          ]
        }
      ]
    },
    {
      "cell_type": "code",
      "source": [
        "class Animal:\n",
        "    def __init__(self, name):\n",
        "        self.name = name\n",
        "\n",
        "    def speak(self):\n",
        "        return f\"{self.name} makes a sound.\"\n",
        "\n",
        "class Dog(Animal):  # Single Inheritance\n",
        "     def talk(self):\n",
        "       return f\"{self.name} barks.\"\n",
        "\n",
        "# Usage\n",
        "dog = Dog(\"Buddy\")   -- # since dog has no _init_ contructor it takes from parent Animal Class\n",
        "print(dog.speak()) ---# if it has its own speak func it calls that if not calls from Animal"
      ],
      "metadata": {
        "colab": {
          "base_uri": "https://localhost:8080/"
        },
        "id": "qe8Y8vvt9iFg",
        "outputId": "d828a942-6f49-404a-9a1c-af32913f98f2"
      },
      "execution_count": 6,
      "outputs": [
        {
          "output_type": "stream",
          "name": "stdout",
          "text": [
            "Buddy makes a sound.\n"
          ]
        }
      ]
    },
    {
      "cell_type": "code",
      "source": [],
      "metadata": {
        "id": "XnmzQfz8HP9f"
      },
      "execution_count": null,
      "outputs": []
    },
    {
      "cell_type": "code",
      "source": [
        "class Animal:\n",
        "    def __init__(self, name):\n",
        "        self.name = name\n",
        "\n",
        "    def speak(self):\n",
        "        return f\"{self.name} makes a sound.\"\n",
        "\n",
        "class Dog(Animal):\n",
        "    def __init__(self, name, breed):\n",
        "        super().__init__(name)  # Call to the parent class's __init__ method\n",
        "        self.breed = breed\n",
        "\n",
        "    def speak(self):\n",
        "        return f\"{self.name}, a {self.breed}, barks.\"\n",
        "\n",
        "# Usage\n",
        "dog = Dog(\"Buddy\", \"Golden Retriever\")\n",
        "print(dog.speak())"
      ],
      "metadata": {
        "colab": {
          "base_uri": "https://localhost:8080/"
        },
        "id": "iQDca7oIOcDk",
        "outputId": "60e9dbf5-3ea3-402f-fe2b-b2a5e4715a5a"
      },
      "execution_count": 7,
      "outputs": [
        {
          "output_type": "stream",
          "name": "stdout",
          "text": [
            "Buddy, a Golden Retriever, barks.\n"
          ]
        }
      ]
    },
    {
      "cell_type": "code",
      "source": [
        "# overriding\n",
        "\n",
        "class Animal:\n",
        "    def speak(self):\n",
        "        return \"Animal makes a sound.\"\n",
        "\n",
        "class Dog(Animal):\n",
        "    def speak(self):\n",
        "        return \"Dog barks.\"\n",
        "\n",
        "# Usage\n",
        "animal = Animal()\n",
        "dog = Dog()\n",
        "\n",
        "print(animal.speak())\n",
        "print(dog.speak())\n",
        "print(animal.speak())"
      ],
      "metadata": {
        "colab": {
          "base_uri": "https://localhost:8080/"
        },
        "id": "XvCFadMfO2QQ",
        "outputId": "67e9d009-359b-4993-d7c3-17961c64110c"
      },
      "execution_count": 9,
      "outputs": [
        {
          "output_type": "stream",
          "name": "stdout",
          "text": [
            "Animal makes a sound.\n",
            "Dog barks.\n",
            "Animal makes a sound.\n"
          ]
        }
      ]
    }
  ]
}