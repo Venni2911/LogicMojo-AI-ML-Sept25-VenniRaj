{
  "nbformat": 4,
  "nbformat_minor": 0,
  "metadata": {
    "colab": {
      "provenance": [],
      "authorship_tag": "ABX9TyMJZX2fQ/UKXJ67Yp/4jxZ9",
      "include_colab_link": true
    },
    "kernelspec": {
      "name": "python3",
      "display_name": "Python 3"
    },
    "language_info": {
      "name": "python"
    }
  },
  "cells": [
    {
      "cell_type": "markdown",
      "metadata": {
        "id": "view-in-github",
        "colab_type": "text"
      },
      "source": [
        "<a href=\"https://colab.research.google.com/github/Venni2911/LogicMojo-AI-ML-Sept25-VenniRaj/blob/main/Venni_Class3_HW.ipynb\" target=\"_parent\"><img src=\"https://colab.research.google.com/assets/colab-badge.svg\" alt=\"Open In Colab\"/></a>"
      ]
    },
    {
      "cell_type": "code",
      "execution_count": null,
      "metadata": {
        "id": "Y4eL0r4FYtaC"
      },
      "outputs": [],
      "source": []
    },
    {
      "cell_type": "markdown",
      "source": [
        "Q1 : Description Sometimes the data has few duplicate values which will affect the analysis done. In this problem, you will be given a list. You have to find and delete the duplicates and print the updated list with no duplicates."
      ],
      "metadata": {
        "id": "RG3hhEzwY4Ts"
      }
    },
    {
      "cell_type": "code",
      "source": [
        "l = [1,2,3,4,5,4,5,6,7,7]\n",
        "\n",
        "list(set(l))\n",
        "\n",
        "\n"
      ],
      "metadata": {
        "colab": {
          "base_uri": "https://localhost:8080/"
        },
        "id": "nyrws_EhY5Qr",
        "outputId": "85b9cbfb-cdf8-4dcd-a1af-60663eff97ad"
      },
      "execution_count": 3,
      "outputs": [
        {
          "output_type": "execute_result",
          "data": {
            "text/plain": [
              "[1, 2, 3, 4, 5, 6, 7]"
            ]
          },
          "metadata": {},
          "execution_count": 3
        }
      ]
    },
    {
      "cell_type": "code",
      "source": [
        "l = [18,9,3,4,5,4,5,6,7,7]\n",
        "\n",
        "list(set(l))"
      ],
      "metadata": {
        "colab": {
          "base_uri": "https://localhost:8080/"
        },
        "id": "0vch1JqEaW7-",
        "outputId": "966a0a3e-6256-4907-e68b-f28c3df259db"
      },
      "execution_count": 4,
      "outputs": [
        {
          "output_type": "execute_result",
          "data": {
            "text/plain": [
              "[3, 4, 5, 6, 7, 9, 18]"
            ]
          },
          "metadata": {},
          "execution_count": 4
        }
      ]
    },
    {
      "cell_type": "code",
      "source": [
        "l = input(\"Enter the list of values separated by space:\").split(' ')\n",
        "\n",
        "l = [int(i) for i in l]\n",
        "\n",
        "print(l)\n",
        "\n",
        "empty_list = []\n",
        "\n",
        "for i in l:\n",
        "  if i not in empty_list:\n",
        "    empty_list.append(i)\n",
        "print(empty_list)\n"
      ],
      "metadata": {
        "colab": {
          "base_uri": "https://localhost:8080/"
        },
        "id": "ibCRenqsb1wU",
        "outputId": "04116f9f-18da-4aac-947d-9ab2879c4f59"
      },
      "execution_count": 17,
      "outputs": [
        {
          "output_type": "stream",
          "name": "stdout",
          "text": [
            "Enter the list of values separated by space:2 3 2 3 4 4 5 5\n",
            "[2, 3, 2, 3, 4, 4, 5, 5]\n",
            "[2, 3, 4, 5]\n"
          ]
        }
      ]
    },
    {
      "cell_type": "markdown",
      "source": [
        "Q2 : You will be converting a dictionary, of string(keys) and list of string (values), to a list of strings. Please check the sample input/output for clarification.\n",
        "\n",
        "Input: A dictionary with keys as strings and values as a list of strings.\n",
        "\n",
        "Output: A list of strings\n",
        "\n",
        "Sample input: {‘Mobile’: [‘Redmi’, ‘Samsung’, ‘Realme’], ‘Laptop’: [‘Dell’, ‘HP’], ‘TV’: [‘Videocon’, ‘Sony’] }\n",
        "\n",
        "Sample output: [‘Mobile_Redmi’, ‘Mobile_Samsung’, ‘Mobile_Realme’, ‘Laptop_Dell’, ‘Laptop_HP’, ‘TV_Videocon’, ‘TV_Sony’]\n",
        "\n",
        "Sample input: { 'Pen': ['Gel', 'Ink', 'ball'], 'Mobile': ['Android', 'apple'] }\n",
        "\n",
        "Sample output: ['Pen_Gel', 'Pen_Ink', 'Pen_ball', 'Mobile_Android', 'Mobile_apple']"
      ],
      "metadata": {
        "id": "ZWsmVvzMiAp9"
      }
    },
    {
      "cell_type": "code",
      "source": [
        "dict =  {\n",
        "    'Mobile': ['Redmi','Samsung', 'Realme'],\n",
        "    'Laptop': ['Dell','HP'], 'TV': ['Vidiocone', 'Sony']\n",
        "    }\n",
        "\n",
        "def output(data):\n",
        "  empty = []\n",
        "  for key in data:\n",
        "    for value in data[key]:\n",
        "      empty.append(key+'_'+value)\n",
        "  print(empty)\n",
        "\n",
        "output(dict)\n",
        "\n"
      ],
      "metadata": {
        "colab": {
          "base_uri": "https://localhost:8080/"
        },
        "id": "IyuXpnU_iDof",
        "outputId": "73ae7540-a364-4d86-eb3c-408e8d343cc6"
      },
      "execution_count": 1,
      "outputs": [
        {
          "output_type": "stream",
          "name": "stdout",
          "text": [
            "['Mobile_Redmi', 'Mobile_Samsung', 'Mobile_Realme', 'Laptop_Dell', 'Laptop_HP', 'TV_Vidiocone', 'TV_Sony']\n"
          ]
        }
      ]
    },
    {
      "cell_type": "code",
      "source": [
        "dict = {'Mobile': ['Redmi', 'Samsung'], 'Laptop': ['Dell']}\n",
        "result = [];\n",
        "for x,y in dict.items():\n",
        "    for value in y:\n",
        "        result.append(x+\"_\"+value)\n",
        "print(result)"
      ],
      "metadata": {
        "colab": {
          "base_uri": "https://localhost:8080/"
        },
        "id": "d4r9FUVhUz8F",
        "outputId": "6fcfd6aa-172e-4109-c381-fdff8341e56f"
      },
      "execution_count": 9,
      "outputs": [
        {
          "output_type": "stream",
          "name": "stdout",
          "text": [
            "['Mobile_Redmi', 'Mobile_Samsung', 'Laptop_Dell']\n"
          ]
        }
      ]
    },
    {
      "cell_type": "markdown",
      "source": [
        "Q3 : Description You will be given a string with a lot of brackets. You have to print if the brackets are balanced or not. Remember, there are three types of brackets: ‘( )’, ‘{ }’ and ‘[ ]’.\n",
        "\n",
        "Input: A string\n",
        "\n",
        "Output: Yes, if the brackets are balanced. No otherwise."
      ],
      "metadata": {
        "id": "NzU7Ox_DPhWK"
      }
    },
    {
      "cell_type": "code",
      "source": [
        "s = input(\"Enter the string: \")\n",
        "\n",
        "\n",
        "\n",
        "def is_balanced(s):\n",
        "    stack = []\n",
        "    pairs = {')': '(', '}': '{', ']': '['}\n",
        "\n",
        "    for ch in s:\n",
        "\n",
        "        if ch in \"([{\":\n",
        "            stack.append(ch)\n",
        "\n",
        "        elif ch in \")]}\":\n",
        "\n",
        "            if not stack:\n",
        "                return False\n",
        "            top = stack.pop()\n",
        "\n",
        "            if pairs[ch] != top:\n",
        "                return False\n",
        "\n",
        "    return len(stack) == 0\n",
        "\n",
        "def check(s):\n",
        "    return \"Yes\" if is_balanced(s) else \"No\"\n",
        "\n",
        "is_balanced(s)"
      ],
      "metadata": {
        "colab": {
          "base_uri": "https://localhost:8080/"
        },
        "id": "QcXQ3dRKPigZ",
        "outputId": "b7b5199b-1d12-405c-ac3e-813f66c584f7"
      },
      "execution_count": 7,
      "outputs": [
        {
          "name": "stdout",
          "output_type": "stream",
          "text": [
            "Enter the string: (){\n"
          ]
        },
        {
          "output_type": "execute_result",
          "data": {
            "text/plain": [
              "False"
            ]
          },
          "metadata": {},
          "execution_count": 7
        }
      ]
    },
    {
      "cell_type": "markdown",
      "source": [],
      "metadata": {
        "id": "HAznntwVYjfn"
      }
    },
    {
      "cell_type": "code",
      "source": [
        "data = input(\"Enter the data\")\n",
        "\n",
        "for i in range(len(data)):\n",
        "    data = data.replace(\"()\", \"\").replace(\"[]\", \"\").replace(\"{}\", \"\")\n",
        "\n",
        "if not data:\n",
        "    print(\"Yes\")\n",
        "else:\n",
        "    print(\"No\")"
      ],
      "metadata": {
        "colab": {
          "base_uri": "https://localhost:8080/"
        },
        "id": "o2KyNU3KVbZD",
        "outputId": "f26632ad-7628-4e81-a2a6-2d65656f9369"
      },
      "execution_count": 10,
      "outputs": [
        {
          "output_type": "stream",
          "name": "stdout",
          "text": [
            "Enter the data(){{{\n",
            "No\n"
          ]
        }
      ]
    },
    {
      "cell_type": "code",
      "source": [
        "s = '{{[]}}'\n",
        "s1 = '(({{{}}}))'\n",
        "\n",
        "l=[]\n",
        "\n",
        "for i in s:\n",
        "  if len(l) == 0 or i == '[' or i == '{' or i == '(':\n",
        "    l.append(i)\n",
        "  else:\n",
        "    l.pop()\n",
        "\n",
        "if len(l) == 0:\n",
        "  print('Balanced')\n",
        "else:\n",
        "  print('No')"
      ],
      "metadata": {
        "colab": {
          "base_uri": "https://localhost:8080/"
        },
        "id": "_iXmkIIFWvxF",
        "outputId": "8daa6130-3289-4bff-e260-fef794a5e0b7"
      },
      "execution_count": 16,
      "outputs": [
        {
          "output_type": "stream",
          "name": "stdout",
          "text": [
            "Balanced\n"
          ]
        }
      ]
    },
    {
      "cell_type": "markdown",
      "source": [
        "Q4 You will be given a dictionary with keys as items and values as their prices. You have to print the cheapest item.\n",
        "\n",
        "Sample input: A single line non-empty dictionary\n",
        "\n",
        "Sample output: cheapest_item name: cheapest_item_cost\n",
        "\n",
        "Sample input: {'mobile1':10000, 'mobile2':11000, 'mobile3':13000, 'mobile4':9000, 'mobile5':15000, 'mobile6':16000, 'mobile7':17000, 'mobile8':18000, 'mobile9':19000}\n",
        "\n",
        "Sample output: mobile4: 9000\n",
        "\n",
        "Note: in case of a tie, whichever item came first should be the output.\n"
      ],
      "metadata": {
        "id": "7s1VfhR0Ynp6"
      }
    },
    {
      "cell_type": "code",
      "source": [
        "## find the min value\n",
        "## traverse all items and compare the min value\n",
        "\n",
        "\n",
        "d = {'mobile1':10000, 'mobile2':11000, 'mobile3':13000, 'mobile4':9000, 'mobile5':15000, 'mobile6':16000, 'mobile7':17000, 'mobile8':18000, 'mobile9':19000}\n",
        "l=list(d.keys())[0]\n",
        "\n",
        "print(l)\n",
        "\n",
        "min = d[l]\n",
        "print(min)\n",
        "\n",
        "for key,value in d.items():\n",
        "  if value < min:\n",
        "    min = value\n",
        "    l = key\n",
        "\n",
        "print(l,min)\n",
        "\n"
      ],
      "metadata": {
        "colab": {
          "base_uri": "https://localhost:8080/"
        },
        "id": "KI5QhHYdZwUe",
        "outputId": "93680965-91b1-4ddd-ebb4-835af227b62f"
      },
      "execution_count": 20,
      "outputs": [
        {
          "output_type": "stream",
          "name": "stdout",
          "text": [
            "mobile1\n",
            "10000\n",
            "mobile4 9000\n"
          ]
        }
      ]
    },
    {
      "cell_type": "code",
      "source": [
        "dict = {'mobile1':10000, 'mobile2':11000, 'mobile3':13000, 'mobile4':9000, 'mobile5':15000, 'mobile6':16000, 'mobile7':17000, 'mobile8':18000, 'mobile9':19000}\n",
        "result = [];\n",
        "for x,y in dict.items():\n",
        "    result.append(y)\n",
        "    result.sort()\n",
        "print(\"cheapest_item_cost\", result[0])"
      ],
      "metadata": {
        "colab": {
          "base_uri": "https://localhost:8080/"
        },
        "id": "ZlcPG_vPYpDw",
        "outputId": "79e5f02c-7a04-4059-9153-80c7b33c3152"
      },
      "execution_count": 17,
      "outputs": [
        {
          "output_type": "stream",
          "name": "stdout",
          "text": [
            "cheapest_item_cost 9000\n"
          ]
        }
      ]
    },
    {
      "cell_type": "markdown",
      "source": [
        "Q5 You will be given a list of repeated elements. You have to find the maximum distance between two same elements. The answer will be zero if there are no repeated elements.\n",
        "\n",
        "Input: A non-empty list of integers.\n",
        "\n",
        "Output: A single integer denoting the maximum distance between two same integers.\n",
        "\n",
        "Sample input: [1, 2, 3, 2, 5, 1, 2, 4, 6, 2, 7, 8, 6]\n",
        "\n",
        "Sample output: 8\n",
        "\n",
        "Explanation: Max distance for 1: 5 Max distance for 2: 8 Max distance for 3: 0 Max distance for 4: 0 Max distance for 5: 0 Max distance for 6: 4 Max distance for 7: 0 Max distance for 8: 0\n"
      ],
      "metadata": {
        "id": "hmws4uOqbBXs"
      }
    },
    {
      "cell_type": "code",
      "source": [
        "### find the index of every element\n",
        "## store the index of same elements together such that you can find the differences from the 1st index\n",
        "\n",
        "l =  [1, 2, 3, 2, 5, 1, 2, 4, 6, 2, 7, 8, 6]\n"
      ],
      "metadata": {
        "id": "Be-GHaQMcRuc"
      },
      "execution_count": null,
      "outputs": []
    },
    {
      "cell_type": "code",
      "source": [
        "input = [1, 2, 3, 2, 5, 1, 2, 4, 6, 2, 7, 8, 6]\n",
        "n = len(input)\n",
        "map = {}\n",
        "for i in range(n):\n",
        "  if input[i] not in map:\n",
        "    map[input[i]] = [i]\n",
        "  else:\n",
        "    map[input[i]].append(i)\n",
        "print(map)\n",
        "\n",
        "for key, value in map.items():\n",
        "  l = value\n",
        "  map[key] = l[len(l)-1] - l[0]\n",
        "print(map)"
      ],
      "metadata": {
        "colab": {
          "base_uri": "https://localhost:8080/"
        },
        "id": "bNK64tm-bCk7",
        "outputId": "151bc3c7-7e79-4b28-bd29-7f6cda1c7730"
      },
      "execution_count": 21,
      "outputs": [
        {
          "output_type": "stream",
          "name": "stdout",
          "text": [
            "{1: [0, 5], 2: [1, 3, 6, 9], 3: [2], 5: [4], 4: [7], 6: [8, 12], 7: [10], 8: [11]}\n",
            "{1: 5, 2: 8, 3: 0, 5: 0, 4: 0, 6: 4, 7: 0, 8: 0}\n"
          ]
        }
      ]
    },
    {
      "cell_type": "code",
      "source": [
        "input = [1, 2, 3, 2, 5, 1, 2, 4, 6, 2, 7, 8, 6]\n",
        "n = len(input)\n",
        "\n",
        "max_d =0\n",
        "\n",
        "for i in range(len(input)):\n",
        "  for j in range (len(input)-1,0,-1):\n",
        "    if l[i] == l[j]:\n",
        "      max_d = max(max_d,j-1)\n",
        "print(max_d)"
      ],
      "metadata": {
        "colab": {
          "base_uri": "https://localhost:8080/",
          "height": 211
        },
        "id": "66eJiZGEeWVh",
        "outputId": "6de4bfa1-9657-4ab7-a310-0ce8deb5b17c"
      },
      "execution_count": 25,
      "outputs": [
        {
          "output_type": "error",
          "ename": "IndexError",
          "evalue": "list index out of range",
          "traceback": [
            "\u001b[0;31m---------------------------------------------------------------------------\u001b[0m",
            "\u001b[0;31mIndexError\u001b[0m                                Traceback (most recent call last)",
            "\u001b[0;32m/tmp/ipython-input-2422957512.py\u001b[0m in \u001b[0;36m<cell line: 0>\u001b[0;34m()\u001b[0m\n\u001b[1;32m      6\u001b[0m \u001b[0;32mfor\u001b[0m \u001b[0mi\u001b[0m \u001b[0;32min\u001b[0m \u001b[0mrange\u001b[0m\u001b[0;34m(\u001b[0m\u001b[0mlen\u001b[0m\u001b[0;34m(\u001b[0m\u001b[0minput\u001b[0m\u001b[0;34m)\u001b[0m\u001b[0;34m)\u001b[0m\u001b[0;34m:\u001b[0m\u001b[0;34m\u001b[0m\u001b[0;34m\u001b[0m\u001b[0m\n\u001b[1;32m      7\u001b[0m   \u001b[0;32mfor\u001b[0m \u001b[0mj\u001b[0m \u001b[0;32min\u001b[0m \u001b[0mrange\u001b[0m \u001b[0;34m(\u001b[0m\u001b[0mlen\u001b[0m\u001b[0;34m(\u001b[0m\u001b[0minput\u001b[0m\u001b[0;34m)\u001b[0m\u001b[0;34m-\u001b[0m\u001b[0;36m1\u001b[0m\u001b[0;34m,\u001b[0m\u001b[0;36m0\u001b[0m\u001b[0;34m,\u001b[0m\u001b[0;34m-\u001b[0m\u001b[0;36m1\u001b[0m\u001b[0;34m)\u001b[0m\u001b[0;34m:\u001b[0m\u001b[0;34m\u001b[0m\u001b[0;34m\u001b[0m\u001b[0m\n\u001b[0;32m----> 8\u001b[0;31m     \u001b[0;32mif\u001b[0m \u001b[0ml\u001b[0m\u001b[0;34m[\u001b[0m\u001b[0mi\u001b[0m\u001b[0;34m]\u001b[0m \u001b[0;34m==\u001b[0m \u001b[0ml\u001b[0m\u001b[0;34m[\u001b[0m\u001b[0mj\u001b[0m\u001b[0;34m]\u001b[0m\u001b[0;34m:\u001b[0m\u001b[0;34m\u001b[0m\u001b[0;34m\u001b[0m\u001b[0m\n\u001b[0m\u001b[1;32m      9\u001b[0m       \u001b[0mmax_d\u001b[0m \u001b[0;34m=\u001b[0m \u001b[0mmax\u001b[0m\u001b[0;34m(\u001b[0m\u001b[0mmax_d\u001b[0m\u001b[0;34m,\u001b[0m\u001b[0mj\u001b[0m\u001b[0;34m-\u001b[0m\u001b[0;36m1\u001b[0m\u001b[0;34m)\u001b[0m\u001b[0;34m\u001b[0m\u001b[0;34m\u001b[0m\u001b[0m\n\u001b[1;32m     10\u001b[0m \u001b[0mprint\u001b[0m\u001b[0;34m(\u001b[0m\u001b[0mmax_d\u001b[0m\u001b[0;34m)\u001b[0m\u001b[0;34m\u001b[0m\u001b[0;34m\u001b[0m\u001b[0m\n",
            "\u001b[0;31mIndexError\u001b[0m: list index out of range"
          ]
        }
      ]
    },
    {
      "cell_type": "markdown",
      "source": [
        "Q6 Your team is going for camping and you are taking a vote to decide what food to pack for dinner. Everyone gets a vote and the food item that gets at least one more than half of the votes wins. None of the items wins if nothing gets at least one more than half votes. Assume that every person gets only one vote. The input will contain a list of food items where each occurrence of an item represents one vote. You should print the winning food item as output. If there is no clear winner, print \"NOTA\".\n",
        "\n",
        "Sample Input: [\"pasta\",\"pasta\",\"pasta\",\"pasta\",\"pasta\",\"paratha\",\"paratha\",\"paratha\"] Sample Output: pasta"
      ],
      "metadata": {
        "id": "IVxQvOvZf-iz"
      }
    },
    {
      "cell_type": "code",
      "source": [
        "l = [\"pasta\",\"pasta\",\"pasta\",\"pasta\",\"pasta\",\"paratha\",\"paratha\",\"paratha\"]\n",
        "\n",
        "d = {}\n",
        "vote_half = len(l) // 2\n",
        "print(vote_half)\n",
        "\n",
        "for i in l:\n",
        "  if i in d:\n",
        "    d[i] += 1\n",
        "  else:\n",
        "    d[i] = 1\n",
        "d\n",
        "for key, value in d.items():\n",
        "  if value > vote_half:\n",
        "    print(key)\n",
        "    break\n",
        "else:\n",
        "  print(\"NOTA\")"
      ],
      "metadata": {
        "colab": {
          "base_uri": "https://localhost:8080/"
        },
        "id": "rAnj6bE4gCA7",
        "outputId": "6aa80018-5796-4364-a857-6cd492d6cb0b"
      },
      "execution_count": 30,
      "outputs": [
        {
          "output_type": "stream",
          "name": "stdout",
          "text": [
            "4\n",
            "pasta\n"
          ]
        }
      ]
    },
    {
      "cell_type": "markdown",
      "source": [
        "Q7 Consider a nested dictionary as follows:\n",
        "\n",
        "{'Fruit': 1, 'Vegetable': {'Cabbage': 2, 'Cauliflower': 3}, 'Spices': 4}\n",
        "\n",
        "Your task is to flatten a nested dictionary and join the nested keys with the \"_\" character. For the above dictionary, the flattened dictionary would be as follows:\n",
        "\n",
        "{'Fruit': 1, 'Vegetable_Cabbage': 2, 'Vegetable_Cauliflower': 3, 'Spices': 4}\n",
        "\n",
        "The input will have a nested dictionary.\n",
        "\n",
        "The output should have two lists. The first list will have keys and the second list should have values. Both lists should be sorted."
      ],
      "metadata": {
        "id": "1S2cCgV7hdfe"
      }
    },
    {
      "cell_type": "code",
      "source": [
        "### fltten the dictionary\n",
        "## parent_dic + '_' + value\n",
        "\n",
        "## sort the dictionary\n",
        "\n",
        "d = {'Fruit': 1, 'Vegetable': {'Cabbage': 2, 'Cauliflower': 3}, 'Spices': 4}\n",
        "flat = {}\n",
        "\n",
        "for key, value in d.items():\n",
        "  if isinstance(value, dict):\n",
        "    for k, v in value.items():\n",
        "      flat[key + '_' + k] = v\n",
        "  else:\n",
        "    flat[key] = value\n",
        "\n",
        "keys = sorted(flat.keys())\n",
        "values = [flat[k] for k in keys]\n",
        "\n",
        "print(keys)\n",
        "print(values)"
      ],
      "metadata": {
        "colab": {
          "base_uri": "https://localhost:8080/",
          "height": 211
        },
        "id": "Hf3ltQcQhfQA",
        "outputId": "20c3ac91-4b55-4363-95ad-103de7f8aa84"
      },
      "execution_count": 38,
      "outputs": [
        {
          "output_type": "error",
          "ename": "TypeError",
          "evalue": "isinstance() arg 2 must be a type, a tuple of types, or a union",
          "traceback": [
            "\u001b[0;31m---------------------------------------------------------------------------\u001b[0m",
            "\u001b[0;31mTypeError\u001b[0m                                 Traceback (most recent call last)",
            "\u001b[0;32m/tmp/ipython-input-2985986576.py\u001b[0m in \u001b[0;36m<cell line: 0>\u001b[0;34m()\u001b[0m\n\u001b[1;32m      8\u001b[0m \u001b[0;34m\u001b[0m\u001b[0m\n\u001b[1;32m      9\u001b[0m \u001b[0;32mfor\u001b[0m \u001b[0mkey\u001b[0m\u001b[0;34m,\u001b[0m \u001b[0mvalue\u001b[0m \u001b[0;32min\u001b[0m \u001b[0md\u001b[0m\u001b[0;34m.\u001b[0m\u001b[0mitems\u001b[0m\u001b[0;34m(\u001b[0m\u001b[0;34m)\u001b[0m\u001b[0;34m:\u001b[0m\u001b[0;34m\u001b[0m\u001b[0;34m\u001b[0m\u001b[0m\n\u001b[0;32m---> 10\u001b[0;31m   \u001b[0;32mif\u001b[0m \u001b[0misinstance\u001b[0m\u001b[0;34m(\u001b[0m\u001b[0mvalue\u001b[0m\u001b[0;34m,\u001b[0m \u001b[0mdict\u001b[0m\u001b[0;34m)\u001b[0m\u001b[0;34m:\u001b[0m\u001b[0;34m\u001b[0m\u001b[0;34m\u001b[0m\u001b[0m\n\u001b[0m\u001b[1;32m     11\u001b[0m     \u001b[0;32mfor\u001b[0m \u001b[0mk\u001b[0m\u001b[0;34m,\u001b[0m \u001b[0mv\u001b[0m \u001b[0;32min\u001b[0m \u001b[0mvalue\u001b[0m\u001b[0;34m.\u001b[0m\u001b[0mitems\u001b[0m\u001b[0;34m(\u001b[0m\u001b[0;34m)\u001b[0m\u001b[0;34m:\u001b[0m\u001b[0;34m\u001b[0m\u001b[0;34m\u001b[0m\u001b[0m\n\u001b[1;32m     12\u001b[0m       \u001b[0mflat\u001b[0m\u001b[0;34m[\u001b[0m\u001b[0mkey\u001b[0m \u001b[0;34m+\u001b[0m \u001b[0;34m'_'\u001b[0m \u001b[0;34m+\u001b[0m \u001b[0mk\u001b[0m\u001b[0;34m]\u001b[0m \u001b[0;34m=\u001b[0m \u001b[0mv\u001b[0m\u001b[0;34m\u001b[0m\u001b[0;34m\u001b[0m\u001b[0m\n",
            "\u001b[0;31mTypeError\u001b[0m: isinstance() arg 2 must be a type, a tuple of types, or a union"
          ]
        }
      ]
    },
    {
      "cell_type": "markdown",
      "source": [
        "# If No head\n",
        "if No head:\n",
        "    self.head = new_node\n",
        "    new_node.next = self.head\n",
        "    return\n",
        "# At beginning\n",
        "previous = self.head\n",
        "current = previous\n",
        "self.head = new_node\n",
        "new_node.next = previous\n",
        "while current.next != previous:\n",
        "    current = current.next\n",
        "current.next = new_node\n",
        "# At End\n",
        "if No head:\n",
        "    self.head = new_node\n",
        "    new_node.next = self.head\n",
        "    return\n",
        "previous = self.head\n",
        "current = previous\n",
        "while current.next != previous:\n",
        "    current = current.next\n",
        "current.next = new_node\n",
        "new_node.next = previous"
      ],
      "metadata": {
        "id": "dnJTkdY5qLhn"
      }
    },
    {
      "cell_type": "code",
      "source": [
        "# If No head\n",
        "if No head:\n",
        "    self.head = new_node\n",
        "    new_node.next = self.head\n",
        "    return\n",
        "# At beginning\n",
        "previous = self.head\n",
        "current = previous\n",
        "self.head = new_node\n",
        "new_node.next = previous\n",
        "while current.next != previous:\n",
        "    current = current.next\n",
        "current.next = new_node\n",
        "# At End\n",
        "if No head:\n",
        "    self.head = new_node\n",
        "    new_node.next = self.head\n",
        "    return\n",
        "previous = self.head\n",
        "current = previous\n",
        "while current.next != previous:\n",
        "    current = current.next\n",
        "current.next = new_node\n",
        "new_node.next = previous"
      ],
      "metadata": {
        "id": "B0cJe6byqPfB"
      },
      "execution_count": null,
      "outputs": []
    }
  ]
}