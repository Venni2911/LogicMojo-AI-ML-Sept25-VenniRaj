{
  "nbformat": 4,
  "nbformat_minor": 0,
  "metadata": {
    "colab": {
      "provenance": [],
      "authorship_tag": "ABX9TyN6Q5ipEmQTCPfhtCR/s7sM",
      "include_colab_link": true
    },
    "kernelspec": {
      "name": "python3",
      "display_name": "Python 3"
    },
    "language_info": {
      "name": "python"
    }
  },
  "cells": [
    {
      "cell_type": "markdown",
      "metadata": {
        "id": "view-in-github",
        "colab_type": "text"
      },
      "source": [
        "<a href=\"https://colab.research.google.com/github/Venni2911/LogicMojo-AI-ML-Sept25-VenniRaj/blob/main/Venni_26_09.ipynb\" target=\"_parent\"><img src=\"https://colab.research.google.com/assets/colab-badge.svg\" alt=\"Open In Colab\"/></a>"
      ]
    },
    {
      "cell_type": "code",
      "execution_count": 8,
      "metadata": {
        "colab": {
          "base_uri": "https://localhost:8080/"
        },
        "id": "FuHfv-YX6yaq",
        "outputId": "54ad84a1-0649-4b23-8bc3-ccf81ebdf5b9"
      },
      "outputs": [
        {
          "output_type": "execute_result",
          "data": {
            "text/plain": [
              "[10, 9, 8, 7, 6, 5, 4, 3, 2, 1]"
            ]
          },
          "metadata": {},
          "execution_count": 8
        }
      ],
      "source": [
        "list = [1,2,3,4,5,6,7,8,9,10]\n",
        "list[0:3]\n",
        "list[1:3]\n",
        "list[-1:-3]\n",
        "list[-5:-3]\n",
        "list[1:10:4]\n",
        "list[::-1]"
      ]
    },
    {
      "cell_type": "code",
      "source": [
        "my_list = [10, 20, 30, 40, 50, 60, 70]\n",
        "my_list[2:5]"
      ],
      "metadata": {
        "colab": {
          "base_uri": "https://localhost:8080/"
        },
        "id": "a50QIBJL9oV3",
        "outputId": "1f2669ec-0c3a-4486-97f4-8600921b37b5"
      },
      "execution_count": 9,
      "outputs": [
        {
          "output_type": "execute_result",
          "data": {
            "text/plain": [
              "[30, 40, 50]"
            ]
          },
          "metadata": {},
          "execution_count": 9
        }
      ]
    },
    {
      "cell_type": "code",
      "source": [
        "'''\n",
        "Question 1 -\n",
        "1. Take an integer as input from the user.\n",
        "2. Calculate cube of the input.\n",
        "3. If result > 50 print \"Massive Number\" else print \"Small Number\".\n",
        "4. After this, print \"EXECUTION COMPLETE!\"\n",
        "\n"
      ],
      "metadata": {
        "id": "sIBrpmXE-ovg"
      },
      "execution_count": null,
      "outputs": []
    },
    {
      "cell_type": "code",
      "source": [
        "x = int(input(\"enter the number: \"))\n",
        "\n",
        "y = x * 3\n",
        "print(y)\n",
        "if y > 50:\n",
        "  print(\"Massive Number\")\n",
        "else:\n",
        "  print(\"Small Number\")\n",
        "\n",
        "print(\"EXECUTION COMPLETE!\")\n",
        "\n"
      ],
      "metadata": {
        "colab": {
          "base_uri": "https://localhost:8080/"
        },
        "id": "-2BJs58j--Fw",
        "outputId": "ebdb1638-6330-4b5e-e611-05e2d064bc06"
      },
      "execution_count": 14,
      "outputs": [
        {
          "output_type": "stream",
          "name": "stdout",
          "text": [
            "enter the number: 5\n",
            "125\n",
            "Massive Number\n",
            "EXECUTION COMPLETE!\n"
          ]
        }
      ]
    },
    {
      "cell_type": "markdown",
      "source": [
        "Write a program that continuously asks the user to provide an input number.\n",
        "Print the square of that input number.\n",
        "The program should stop if the user enters 5.\n",
        "In case user enters any multiple of 4, skip it."
      ],
      "metadata": {
        "id": "IY2VvoInBu6M"
      }
    },
    {
      "cell_type": "code",
      "source": [
        "while True:\n",
        "  x = int(input(\"Enter the input:\" ))\n",
        "\n",
        "  print(x*x)\n",
        "\n",
        "  if x == 5:\n",
        "    break\n",
        "  elif x % 4 == 0:\n",
        "    continue\n",
        "\n",
        "\n",
        "\n"
      ],
      "metadata": {
        "colab": {
          "base_uri": "https://localhost:8080/"
        },
        "id": "4XTOWtK7_rC8",
        "outputId": "f5d15b16-13f0-438b-b9e2-e66c48142d74"
      },
      "execution_count": 20,
      "outputs": [
        {
          "output_type": "stream",
          "name": "stdout",
          "text": [
            "Enter the input:3\n",
            "9\n",
            "Enter the input:4\n",
            "16\n",
            "Enter the input:9\n",
            "81\n",
            "Enter the input:5\n",
            "25\n"
          ]
        }
      ]
    },
    {
      "cell_type": "code",
      "source": [
        "\n",
        "\n",
        "loop = [1,2,3,4,5,6,7,8,9]\n",
        "\n",
        "for x in loop:\n",
        "  if x % 2 == 0:\n",
        "    print( x ,\" is a even\")\n",
        "  else:\n",
        "    print( x ,\" is a odd\")\n",
        "\n",
        "\n"
      ],
      "metadata": {
        "colab": {
          "base_uri": "https://localhost:8080/"
        },
        "id": "l8PKu6avDnq6",
        "outputId": "b2ff117a-e4e1-4edc-e847-1a72a80a6685"
      },
      "execution_count": 27,
      "outputs": [
        {
          "output_type": "stream",
          "name": "stdout",
          "text": [
            "1  is a odd\n",
            "2  is a even\n",
            "3  is a odd\n",
            "4  is a even\n",
            "5  is a odd\n",
            "6  is a even\n",
            "7  is a odd\n",
            "8  is a even\n",
            "9  is a odd\n"
          ]
        }
      ]
    },
    {
      "cell_type": "code",
      "source": [
        "for x in range(4):\n",
        "  for y in range(2):\n",
        "    print(\"*\",end=' ')\n",
        "  print()\n"
      ],
      "metadata": {
        "colab": {
          "base_uri": "https://localhost:8080/"
        },
        "id": "N8jqvVd7E1iK",
        "outputId": "75eb23b5-7eee-4721-cba6-b912786e6b14"
      },
      "execution_count": 45,
      "outputs": [
        {
          "output_type": "stream",
          "name": "stdout",
          "text": [
            "* * \n",
            "* * \n",
            "* * \n",
            "* * \n"
          ]
        }
      ]
    },
    {
      "cell_type": "code",
      "source": [
        "N = int(input(\"Enter the number\"))\n",
        "\n",
        "for i in range(1,N+1):\n",
        "  for j in range(i):\n",
        "    print(\"*\",end='')\n",
        "  print()\n"
      ],
      "metadata": {
        "colab": {
          "base_uri": "https://localhost:8080/"
        },
        "id": "KhyePB2hHIWt",
        "outputId": "c4393f1d-7032-451e-8439-0b4d3c06c011"
      },
      "execution_count": 49,
      "outputs": [
        {
          "output_type": "stream",
          "name": "stdout",
          "text": [
            "Enter the number5\n",
            "*\n",
            "**\n",
            "***\n",
            "****\n",
            "*****\n"
          ]
        }
      ]
    },
    {
      "cell_type": "code",
      "source": [
        "n = 10\n",
        "\n",
        "for i in range(10):\n",
        "  x = ' ' * (n-i-1)\n",
        "  y = \"*\" * (2 * i +1)\n",
        "  print(x + y)"
      ],
      "metadata": {
        "colab": {
          "base_uri": "https://localhost:8080/"
        },
        "id": "g-JQgg9YIEI3",
        "outputId": "4d82c753-8df1-4aa7-eed4-d5b0de8d06e6"
      },
      "execution_count": 85,
      "outputs": [
        {
          "output_type": "stream",
          "name": "stdout",
          "text": [
            "         *\n",
            "        ***\n",
            "       *****\n",
            "      *******\n",
            "     *********\n",
            "    ***********\n",
            "   *************\n",
            "  ***************\n",
            " *****************\n",
            "*******************\n"
          ]
        }
      ]
    },
    {
      "cell_type": "code",
      "source": [
        "t =(1,2,3,4,5,2,5,6,7,8,9,10)\n",
        "t.count(3)\n",
        "t.index(8,5)\n",
        "t.index(7)"
      ],
      "metadata": {
        "colab": {
          "base_uri": "https://localhost:8080/"
        },
        "id": "Hr848BN8RVol",
        "outputId": "3d174419-2b64-4af0-f9e8-c91416aff00e"
      },
      "execution_count": 93,
      "outputs": [
        {
          "output_type": "execute_result",
          "data": {
            "text/plain": [
              "8"
            ]
          },
          "metadata": {},
          "execution_count": 93
        }
      ]
    },
    {
      "cell_type": "code",
      "source": [],
      "metadata": {
        "id": "rf9VKpkTWtQ_"
      },
      "execution_count": null,
      "outputs": []
    }
  ]
}